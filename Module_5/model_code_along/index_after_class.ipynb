{
 "cells": [
  {
   "cell_type": "code",
   "execution_count": 96,
   "metadata": {},
   "outputs": [
    {
     "name": "stdout",
     "output_type": "stream",
     "text": [
      "The autoreload extension is already loaded. To reload it, use:\n",
      "  %reload_ext autoreload\n"
     ]
    }
   ],
   "source": [
    "from sklearn.model_selection import train_test_split\n",
    "\n",
    "%load_ext autoreload\n",
    "%autoreload 2\n",
    "\n",
    "import warnings\n",
    "warnings.filterwarnings('ignore')"
   ]
  },
  {
   "cell_type": "code",
   "execution_count": 97,
   "metadata": {},
   "outputs": [],
   "source": [
    "original_df = pd.read_csv('data/titanic.csv')\n"
   ]
  },
  {
   "cell_type": "code",
   "execution_count": 98,
   "metadata": {},
   "outputs": [],
   "source": [
    "from titanic_preprocess import preprocess_titanic_no_tts\n",
    "\n",
    "X, y = preprocess_titanic_no_tts(original_df)"
   ]
  },
  {
   "cell_type": "code",
   "execution_count": 99,
   "metadata": {},
   "outputs": [
    {
     "data": {
      "text/html": [
       "<div>\n",
       "<style scoped>\n",
       "    .dataframe tbody tr th:only-of-type {\n",
       "        vertical-align: middle;\n",
       "    }\n",
       "\n",
       "    .dataframe tbody tr th {\n",
       "        vertical-align: top;\n",
       "    }\n",
       "\n",
       "    .dataframe thead th {\n",
       "        text-align: right;\n",
       "    }\n",
       "</style>\n",
       "<table border=\"1\" class=\"dataframe\">\n",
       "  <thead>\n",
       "    <tr style=\"text-align: right;\">\n",
       "      <th></th>\n",
       "      <th>Age_bucket_20-40</th>\n",
       "      <th>Age_bucket_above 40</th>\n",
       "      <th>Embarked_Q</th>\n",
       "      <th>Embarked_S</th>\n",
       "      <th>Sex_male</th>\n",
       "      <th>Pclass</th>\n",
       "      <th>SibSp</th>\n",
       "      <th>Parch</th>\n",
       "      <th>Fare</th>\n",
       "    </tr>\n",
       "  </thead>\n",
       "  <tbody>\n",
       "    <tr>\n",
       "      <td>0</td>\n",
       "      <td>1.0</td>\n",
       "      <td>0.0</td>\n",
       "      <td>0.0</td>\n",
       "      <td>1.0</td>\n",
       "      <td>1.0</td>\n",
       "      <td>1.0</td>\n",
       "      <td>0.125</td>\n",
       "      <td>0.0</td>\n",
       "      <td>0.014151</td>\n",
       "    </tr>\n",
       "    <tr>\n",
       "      <td>1</td>\n",
       "      <td>1.0</td>\n",
       "      <td>0.0</td>\n",
       "      <td>0.0</td>\n",
       "      <td>0.0</td>\n",
       "      <td>0.0</td>\n",
       "      <td>0.0</td>\n",
       "      <td>0.125</td>\n",
       "      <td>0.0</td>\n",
       "      <td>0.139136</td>\n",
       "    </tr>\n",
       "    <tr>\n",
       "      <td>2</td>\n",
       "      <td>1.0</td>\n",
       "      <td>0.0</td>\n",
       "      <td>0.0</td>\n",
       "      <td>1.0</td>\n",
       "      <td>0.0</td>\n",
       "      <td>1.0</td>\n",
       "      <td>0.000</td>\n",
       "      <td>0.0</td>\n",
       "      <td>0.015469</td>\n",
       "    </tr>\n",
       "    <tr>\n",
       "      <td>3</td>\n",
       "      <td>1.0</td>\n",
       "      <td>0.0</td>\n",
       "      <td>0.0</td>\n",
       "      <td>1.0</td>\n",
       "      <td>0.0</td>\n",
       "      <td>0.0</td>\n",
       "      <td>0.125</td>\n",
       "      <td>0.0</td>\n",
       "      <td>0.103644</td>\n",
       "    </tr>\n",
       "    <tr>\n",
       "      <td>4</td>\n",
       "      <td>1.0</td>\n",
       "      <td>0.0</td>\n",
       "      <td>0.0</td>\n",
       "      <td>1.0</td>\n",
       "      <td>1.0</td>\n",
       "      <td>1.0</td>\n",
       "      <td>0.000</td>\n",
       "      <td>0.0</td>\n",
       "      <td>0.015713</td>\n",
       "    </tr>\n",
       "  </tbody>\n",
       "</table>\n",
       "</div>"
      ],
      "text/plain": [
       "   Age_bucket_20-40  Age_bucket_above 40  Embarked_Q  Embarked_S  Sex_male  \\\n",
       "0               1.0                  0.0         0.0         1.0       1.0   \n",
       "1               1.0                  0.0         0.0         0.0       0.0   \n",
       "2               1.0                  0.0         0.0         1.0       0.0   \n",
       "3               1.0                  0.0         0.0         1.0       0.0   \n",
       "4               1.0                  0.0         0.0         1.0       1.0   \n",
       "\n",
       "   Pclass  SibSp  Parch      Fare  \n",
       "0     1.0  0.125    0.0  0.014151  \n",
       "1     0.0  0.125    0.0  0.139136  \n",
       "2     1.0  0.000    0.0  0.015469  \n",
       "3     0.0  0.125    0.0  0.103644  \n",
       "4     1.0  0.000    0.0  0.015713  "
      ]
     },
     "execution_count": 99,
     "metadata": {},
     "output_type": "execute_result"
    }
   ],
   "source": [
    "X.head()"
   ]
  },
  {
   "cell_type": "code",
   "execution_count": 48,
   "metadata": {},
   "outputs": [],
   "source": [
    "X_not_hold, X_hold_out, y_not_hold, y_hold_out = train_test_split(X, y, test_size = .25, random_state = 42)"
   ]
  },
  {
   "cell_type": "code",
   "execution_count": 49,
   "metadata": {},
   "outputs": [
    {
     "data": {
      "text/plain": [
       "0    341\n",
       "1    242\n",
       "Name: Survived, dtype: int64"
      ]
     },
     "execution_count": 49,
     "metadata": {},
     "output_type": "execute_result"
    }
   ],
   "source": [
    "y_not_hold.value_counts()"
   ]
  },
  {
   "cell_type": "code",
   "execution_count": 54,
   "metadata": {},
   "outputs": [],
   "source": [
    "from sklearn.tree import DecisionTreeClassifier\n",
    "from sklearn.model_selection import StratifiedKFold\n",
    "from sklearn.metrics import roc_auc_score\n",
    "\n",
    "## Base Model\n",
    "\n",
    "\n",
    "\n",
    "stk = StratifiedKFold(n_splits = 3)\n",
    "\n",
    "depths_roc = {}\n",
    "\n",
    "for depth in range(2,20):\n",
    "    mean_roc = []\n",
    "    for train_ind, test_ind in stk.split(X_not_hold, y_not_hold):\n",
    "        dt = DecisionTreeClassifier(criterion = 'entropy', max_depth = depth)\n",
    "\n",
    "        X_train = X_not_hold.iloc[train_ind]\n",
    "        X_test = X_not_hold.iloc[test_ind]\n",
    "\n",
    "        y_train = y_not_hold.iloc[train_ind]\n",
    "        y_test = y_not_hold.iloc[test_ind]\n",
    "\n",
    "        dt.fit(X_train, y_train)\n",
    "        y_hat = dt.predict(X_test)\n",
    "        y_hat_probas = dt.predict_proba(X_test)[:,1]\n",
    "\n",
    "        mean_roc.append(roc_auc_score(y_test, y_hat_probas))\n",
    "\n",
    "    depths_roc[depth] = sum(mean_roc)/len(mean_roc)\n"
   ]
  },
  {
   "cell_type": "code",
   "execution_count": 56,
   "metadata": {},
   "outputs": [
    {
     "data": {
      "text/plain": [
       "[<matplotlib.lines.Line2D at 0x1a23f0b358>]"
      ]
     },
     "execution_count": 56,
     "metadata": {},
     "output_type": "execute_result"
    },
    {
     "data": {
      "image/png": "[encoded data removed]",
      "text/plain": [
       "<Figure size 432x288 with 1 Axes>"
      ]
     },
     "metadata": {
      "needs_background": "light"
     },
     "output_type": "display_data"
    }
   ],
   "source": [
    "plt.plot(list(depths_roc.keys()), list(depths_roc.values()))"
   ]
  },
  {
   "cell_type": "code",
   "execution_count": 57,
   "metadata": {},
   "outputs": [
    {
     "data": {
      "text/plain": [
       "{2: 0.8042261133504945,\n",
       " 3: 0.8306367970939768,\n",
       " 4: 0.8073048022793792,\n",
       " 5: 0.808852776036745,\n",
       " 6: 0.78016532463392,\n",
       " 7: 0.7687660286819966,\n",
       " 8: 0.7642338888984725,\n",
       " 9: 0.7485171831943381,\n",
       " 10: 0.7432824408703759,\n",
       " 11: 0.7291252452619951,\n",
       " 12: 0.7172356768911609,\n",
       " 13: 0.7245800916581852,\n",
       " 14: 0.71310665406734,\n",
       " 15: 0.7238345702652057,\n",
       " 16: 0.7075635253325053,\n",
       " 17: 0.7075006245355914,\n",
       " 18: 0.7205489859522619,\n",
       " 19: 0.7254043947818855}"
      ]
     },
     "execution_count": 57,
     "metadata": {},
     "output_type": "execute_result"
    }
   ],
   "source": [
    "depths_roc"
   ]
  },
  {
   "cell_type": "code",
   "execution_count": 58,
   "metadata": {},
   "outputs": [],
   "source": [
    "from fit_and_print import fit_model_and_print_metrics"
   ]
  },
  {
   "cell_type": "code",
   "execution_count": 63,
   "metadata": {},
   "outputs": [],
   "source": [
    "stk = StratifiedKFold()\n",
    "stk_indices = stk.split(X_not_hold, y_not_hold)"
   ]
  },
  {
   "cell_type": "code",
   "execution_count": 64,
   "metadata": {},
   "outputs": [],
   "source": [
    "stk_indices = list(stk_indices)"
   ]
  },
  {
   "cell_type": "code",
   "execution_count": 71,
   "metadata": {},
   "outputs": [
    {
     "name": "stdout",
     "output_type": "stream",
     "text": [
      "accuracy_score: 0.7734555599840575\n",
      "precision_score: 0.799923592625456\n",
      "recall_score: 0.6198045267489712\n",
      "f1_score: 0.693246412314711\n",
      "roc_auc_score: 0.7511639722188678\n"
     ]
    },
    {
     "data": {
      "text/plain": [
       "{'accuracy': 0.7734555599840575,\n",
       " 'precision': 0.799923592625456,\n",
       " 'recall': 0.6198045267489712,\n",
       " 'f1': 0.693246412314711,\n",
       " 'roc_auc': 0.7511639722188678}"
      ]
     },
     "execution_count": 71,
     "metadata": {},
     "output_type": "execute_result"
    }
   ],
   "source": [
    "dt = DecisionTreeClassifier(criterion = 'entropy', max_depth = 3)\n",
    "\n",
    "fit_model_and_print_metrics(stk_indices, X_not_hold, y_not_hold, dt, print_metrics = True)"
   ]
  },
  {
   "cell_type": "code",
   "execution_count": 80,
   "metadata": {},
   "outputs": [],
   "source": [
    "from sklearn.ensemble import RandomForestClassifier\n",
    "depths_auc = {}\n",
    "for depth in range(2,20):\n",
    "    \n",
    "    rf = RandomForestClassifier()\n",
    "    results = fit_model_and_print_metrics(stk_indices, X_not_hold, y_not_hold, rf, print_metrics = False)\n",
    "    depths_auc[depth] = results['roc_auc']"
   ]
  },
  {
   "cell_type": "code",
   "execution_count": 81,
   "metadata": {},
   "outputs": [
    {
     "data": {
      "text/plain": [
       "[<matplotlib.lines.Line2D at 0x1a23048a90>]"
      ]
     },
     "execution_count": 81,
     "metadata": {},
     "output_type": "execute_result"
    },
    {
     "data": {
      "image/png": "[encoded data removed]",
      "text/plain": [
       "<Figure size 432x288 with 1 Axes>"
      ]
     },
     "metadata": {
      "needs_background": "light"
     },
     "output_type": "display_data"
    }
   ],
   "source": [
    "plt.plot(list(depths_auc.keys()), list(depths_auc.values()))"
   ]
  },
  {
   "cell_type": "code",
   "execution_count": 82,
   "metadata": {},
   "outputs": [
    {
     "data": {
      "text/plain": [
       "{2: 0.7362904814067289,\n",
       " 3: 0.7541057025689977,\n",
       " 4: 0.7456583475650778,\n",
       " 5: 0.7490337028795083,\n",
       " 6: 0.7514654024852364,\n",
       " 7: 0.7476231549046329,\n",
       " 8: 0.740842219787971,\n",
       " 9: 0.7397412242367088,\n",
       " 10: 0.7438970374012164,\n",
       " 11: 0.7517255990270661,\n",
       " 12: 0.7446196218860273,\n",
       " 13: 0.7435231066987912,\n",
       " 14: 0.7437812187931865,\n",
       " 15: 0.766747684586206,\n",
       " 16: 0.7517511634570968,\n",
       " 17: 0.7355918201490835,\n",
       " 18: 0.7449441967066689,\n",
       " 19: 0.7473910744440037}"
      ]
     },
     "execution_count": 82,
     "metadata": {},
     "output_type": "execute_result"
    }
   ],
   "source": [
    "depths_auc"
   ]
  },
  {
   "cell_type": "code",
   "execution_count": 86,
   "metadata": {},
   "outputs": [
    {
     "data": {
      "text/plain": [
       "[<matplotlib.lines.Line2D at 0x1a24b9acf8>]"
      ]
     },
     "execution_count": 86,
     "metadata": {},
     "output_type": "execute_result"
    },
    {
     "data": {
      "image/png": "[encoded data removed]",
      "text/plain": [
       "<Figure size 432x288 with 1 Axes>"
      ]
     },
     "metadata": {
      "needs_background": "light"
     },
     "output_type": "display_data"
    }
   ],
   "source": [
    "from sklearn.neighbors import KNeighborsClassifier\n",
    "\n",
    "neighbors_auc = {}\n",
    "for neighbors in range(2,20):\n",
    "    \n",
    "    knn = KNeighborsClassifier(n_neighbors= neighbors)\n",
    "    results = fit_model_and_print_metrics(stk_indices, X_not_hold, y_not_hold, knn, print_metrics = False)\n",
    "    neighbors_auc[neighbors] = results['roc_auc']\n",
    "plt.plot(list(neighbors_auc.keys()), list(neighbors_auc.values()))"
   ]
  },
  {
   "cell_type": "code",
   "execution_count": 88,
   "metadata": {},
   "outputs": [
    {
     "data": {
      "text/plain": [
       "[<matplotlib.lines.Line2D at 0x1a223f5eb8>]"
      ]
     },
     "execution_count": 88,
     "metadata": {},
     "output_type": "execute_result"
    },
    {
     "data": {
      "image/png": "[encoded data removed]",
      "text/plain": [
       "<Figure size 432x288 with 1 Axes>"
      ]
     },
     "metadata": {
      "needs_background": "light"
     },
     "output_type": "display_data"
    }
   ],
   "source": [
    "from sklearn.ensemble import AdaBoostClassifier\n",
    "\n",
    "estimators_auc = {}\n",
    "for estimators in range(25,75)\n",
    "    \n",
    "    ada = AdaBoostClassifier(n_estimators=estimators)\n",
    "    results = fit_model_and_print_metrics(stk_indices, X_not_hold, y_not_hold, ada, print_metrics = False)\n",
    "    estimators_auc[estimators] = results['roc_auc']\n",
    "plt.plot(list(estimators_auc.keys()), list(estimators_auc.values()))"
   ]
  },
  {
   "cell_type": "code",
   "execution_count": 89,
   "metadata": {},
   "outputs": [
    {
     "data": {
      "text/plain": [
       "{25: 0.7341784090538813,\n",
       " 26: 0.7353696587831428,\n",
       " 27: 0.7403771244592416,\n",
       " 28: 0.7377264380770564,\n",
       " 29: 0.749177326099582,\n",
       " 30: 0.7432495050036322,\n",
       " 31: 0.7450363795975243,\n",
       " 32: 0.7438992775832293,\n",
       " 33: 0.7412460395498743,\n",
       " 34: 0.7439253092169952,\n",
       " 35: 0.7447530145422555,\n",
       " 36: 0.7482983361796824,\n",
       " 37: 0.7482726160150732,\n",
       " 38: 0.7476896176308793,\n",
       " 39: 0.7574336546736665,\n",
       " 40: 0.7524392826817398,\n",
       " 41: 0.7518305641329369,\n",
       " 42: 0.7445206226124692,\n",
       " 43: 0.7465782357811935,\n",
       " 44: 0.7424630094437449,\n",
       " 45: 0.7424115691145268,\n",
       " 46: 0.7450777450974755,\n",
       " 47: 0.7400702794213765,\n",
       " 48: 0.7471609226962302,\n",
       " 49: 0.7465783915157718,\n",
       " 50: 0.7451033095275061,\n",
       " 51: 0.7438994333178077,\n",
       " 52: 0.7471609226962302,\n",
       " 53: 0.7495151503389743,\n",
       " 54: 0.7527382930723511,\n",
       " 55: 0.7509514184784588,\n",
       " 56: 0.7494894301743652,\n",
       " 57: 0.7532797702220152,\n",
       " 58: 0.7444691822832509,\n",
       " 59: 0.7488680851451255,\n",
       " 60: 0.7465397334015691,\n",
       " 61: 0.74626868335758,\n",
       " 62: 0.7453227635076987,\n",
       " 63: 0.7477049514970645,\n",
       " 64: 0.7479889394906474,\n",
       " 65: 0.7477049514970645,\n",
       " 66: 0.7521041658280959,\n",
       " 67: 0.7462429631929709,\n",
       " 68: 0.7459313263219229,\n",
       " 69: 0.750642021789424,\n",
       " 70: 0.7479889394906474,\n",
       " 71: 0.7530090316471831,\n",
       " 72: 0.7433576446989866,\n",
       " 73: 0.7527769511865537,\n",
       " 74: 0.7512632110840851}"
      ]
     },
     "execution_count": 89,
     "metadata": {},
     "output_type": "execute_result"
    }
   ],
   "source": [
    "estimators_auc"
   ]
  },
  {
   "cell_type": "code",
   "execution_count": 90,
   "metadata": {},
   "outputs": [],
   "source": [
    "from sklearn.svm import SVC"
   ]
  },
  {
   "cell_type": "code",
   "execution_count": 95,
   "metadata": {},
   "outputs": [
    {
     "data": {
      "text/plain": [
       "{'accuracy': 0.7373986980204595,\n",
       " 'precision': 0.6569648821883182,\n",
       " 'recall': 0.7810185185185184,\n",
       " 'f1': 0.7124928421454477,\n",
       " 'roc_auc': 0.7437540970173714}"
      ]
     },
     "execution_count": 95,
     "metadata": {},
     "output_type": "execute_result"
    }
   ],
   "source": [
    "clf = SVC(probability=True, kernel='poly')\n",
    "\n",
    "fit_model_and_print_metrics(stk_indices, X_not_hold, y_not_hold, clf, print_metrics = False)\n"
   ]
  },
  {
   "cell_type": "code",
   "execution_count": null,
   "metadata": {},
   "outputs": [],
   "source": []
  },
  {
   "cell_type": "code",
   "execution_count": null,
   "metadata": {},
   "outputs": [],
   "source": []
  },
  {
   "cell_type": "markdown",
   "metadata": {},
   "source": [
    "# Validate"
   ]
  },
  {
   "cell_type": "code",
   "execution_count": null,
   "metadata": {},
   "outputs": [],
   "source": []
  },
  {
   "cell_type": "code",
   "execution_count": null,
   "metadata": {},
   "outputs": [],
   "source": [
    "# X_hold_out, y_hold_out"
   ]
  }
 ],
 "metadata": {
  "kernelspec": {
   "display_name": "Python 3",
   "language": "python",
   "name": "python3"
  },
  "language_info": {
   "codemirror_mode": {
    "name": "ipython",
    "version": 3
   },
   "file_extension": ".py",
   "mimetype": "text/x-python",
   "name": "python",
   "nbconvert_exporter": "python",
   "pygments_lexer": "ipython3",
   "version": "3.7.3"
  }
 },
 "nbformat": 4,
 "nbformat_minor": 4
}
